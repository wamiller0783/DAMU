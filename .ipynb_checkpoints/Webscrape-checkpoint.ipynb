{
 "cells": [
  {
   "cell_type": "code",
   "execution_count": 88,
   "metadata": {},
   "outputs": [],
   "source": [
    "import re\n",
    "import requests\n",
    "import pandas as pd\n",
    "\n",
    "from bs4 import BeautifulSoup\n",
    "from bs4 import UnicodeDammit"
   ]
  },
  {
   "cell_type": "markdown",
   "metadata": {},
   "source": [
    "Journal searches to scrape:  \n",
    "https://www.hindawi.com/search/all/biological+aging/  \n",
    "https://www.sciencedirect.com/journal/ageing-research-reviews/issues (limited availability)  \n",
    "https://academic.oup.com/ageing/search-results?q=aging&allJournals=1&f_ContentType=Journal+Article&f_ArticleTypeDisplayName=Research+Article&fl_SiteID=5255&access_openaccess=true&access_unlocked=true&qb=%7b%22q%22%3a%22aging%22%7d&access_free=true (search could be expanded, but no search includes many results regarding injuries).  \n"
   ]
  },
  {
   "cell_type": "code",
   "execution_count": 2,
   "metadata": {},
   "outputs": [],
   "source": [
    "## define variables for the parent website plus the URL for the first page of any search results\n",
    "parent_link = 'https://www.hindawi.com'\n",
    "search_link_modifier = '/search/all/cellular+aging/'"
   ]
  },
  {
   "cell_type": "code",
   "execution_count": 3,
   "metadata": {},
   "outputs": [],
   "source": [
    "def fetch_page(page_link):\n",
    "    \"\"\"\n",
    "    Args: \n",
    "        page_line (str): any valid URL\n",
    "        \n",
    "    Returns:\n",
    "        page_content (obj): BeautifulSoup parsable webcontent associated with the input URL \n",
    "    \n",
    "    To-do:\n",
    "        Add error handling based on page_response\n",
    "    \"\"\"\n",
    "    page_response = requests.get(page_link, timeout=5)\n",
    "    page_content = BeautifulSoup(page_response.content, \"html.parser\")\n",
    "    return page_content"
   ]
  },
  {
   "cell_type": "code",
   "execution_count": 4,
   "metadata": {},
   "outputs": [],
   "source": [
    "def links_from_parent(parent_content, search_substring):\n",
    "    \"\"\"\n",
    "    Args: \n",
    "        parent_content (obj): BeautifulSoup parsed html\n",
    "            \n",
    "        search_substring (str): string to search for within link URL\n",
    "   \n",
    "    Returns:\n",
    "        list_links (list): List of links meeting search criteria\n",
    "    \"\"\" \n",
    "    list_links = []\n",
    "    for link in parent_content.findAll('a', href=re.compile(search_substring)):\n",
    "        list_links.append(link.get('href'))\n",
    "    return list_links\n",
    "            \n",
    "# def link_next_parent(parent_content, journal_name):\n",
    "#     if journal_name == 'hindawi':\n",
    "#         for link in parent_content.findAll('a', href=re.compile('search/')):\n",
    "#             print(link.get('href'))"
   ]
  },
  {
   "cell_type": "code",
   "execution_count": 5,
   "metadata": {},
   "outputs": [],
   "source": [
    "def get_all_search_links(parent_link, search_link_modifier, next_search_modifier, max_count = 1000, **kws):\n",
    "    \"\"\"\n",
    "    Args:\n",
    "        parent_link (str): \n",
    "            URL of parent site ('https://www.hindawi.com')\n",
    "        \n",
    "        search_link_modifier (str): \n",
    "            string to add to parent URL that links to the first search term\n",
    "            ('/search/all/biological+aging/' within 'https://www.hindawi.com/search/all/biological+aging/')\n",
    "    \n",
    "        next_search_modifier (str): \n",
    "            string (plus optional regex) within a URL that signifies a link to the next\n",
    "            page of search results ('search/' within 'https://www.hindawi.com/search/all/biological+aging/2/')\n",
    "            \n",
    "        max_count (int):\n",
    "            maximum number of links to get from search to prevent the indefinite retrieval.\n",
    "    \n",
    "    Returns:\n",
    "        list_links (list): \n",
    "            All links to all pages of search results within the parent site which correspond to the search term\n",
    "    \"\"\"\n",
    "    list_links = [search_link_modifier]\n",
    "    e = 0\n",
    "    i = 0\n",
    "    while (e == 0) and (i < max_count):\n",
    "        search_content = fetch_page(parent_link + search_link_modifier)\n",
    "        \n",
    "        next_search_link = links_from_parent(search_content, next_search_modifier)\n",
    "        if next_search_link[-1] not in list_links:\n",
    "            list_links.append(next_search_link[-1])\n",
    "            search_link_modifier = next_search_link[-1]\n",
    "        else:\n",
    "            e = 1\n",
    "        i += 1\n",
    "    return list_links"
   ]
  },
  {
   "cell_type": "code",
   "execution_count": 12,
   "metadata": {},
   "outputs": [],
   "source": [
    "def get_all_journal_links(parent_link, search_link_list, journal_link_identifier):\n",
    "    \"\"\"\n",
    "    Args:\n",
    "        parent_link (str): \n",
    "            URL of parent site ('https://www.hindawi.com')\n",
    "        \n",
    "        search_link_list (list): \n",
    "            list of strings string to add to parent URL to get search pages\n",
    "            (['/search/all/biological+aging/', '/search/all/biological+aging/2/'] \n",
    "            within 'https://www.hindawi.com/search/all/biological+aging/' and \n",
    "            'https://www.hindawi.com/search/all/biological+aging/2/, respectively.\n",
    "\n",
    "    \n",
    "        journal_link_identifier (str): \n",
    "            string (plus optional regex) within a URL that signifies a link to a journal\n",
    "            ('journals/[a-z]' within 'https://www.hindawi.com/journals/[string starting with any letter]')\n",
    "    \n",
    "    Returns:\n",
    "        list_links (list): \n",
    "            All links to all journals within the parent site which correspond to the search term\n",
    "    \"\"\"\n",
    "    list_links = []\n",
    "    for search_link_modifier in search_link_list:\n",
    "        search_content = fetch_page(parent_link + search_link_modifier)\n",
    "        page_links = links_from_parent(search_content, journal_link_identifier)\n",
    "        list_links = list_links + page_links\n",
    "    return list_links\n"
   ]
  },
  {
   "cell_type": "code",
   "execution_count": 122,
   "metadata": {},
   "outputs": [],
   "source": [
    "def get_journal_text(parent_link, journal_link_modifier, text_container, text_identifier):\n",
    "    \"\"\"\n",
    "    Args:\n",
    "        parent_link (str): \n",
    "            URL of parent site ('https://www.hindawi.com')\n",
    "    \n",
    "        journal_link_modifier (str):\n",
    "            string within a URL that signifies a link to a specific journal article\n",
    "            ('/journals/omcl/2012/919832/' within 'https://www.hindawi.com/journals/omcl/2012/919832/')\n",
    "    \n",
    "        text_container (str):\n",
    "            string that determines what kind of html tag contains the text to scrape. \n",
    "            (most commonly 'div' but may be 'p' or some other tag)\n",
    "        \n",
    "        text_identifier (dict):\n",
    "            dictionary that defines the properties of the text container from which to scrape the text.\n",
    "            ({'class': 'article_type'} or {'id': 'article_text'})\n",
    "            \n",
    "    Returns:\n",
    "        journal_text (str):\n",
    "    \"\"\"\n",
    "    page_content = fetch_page(parent_link + journal_link_modifier)\n",
    "    journal_text = page_content.find(text_container, text_identifier).parent.get_text(' ')\n",
    "    \n",
    "    #Convert journal text to unicode and return unicode markup.\n",
    "    unicode_text = UnicodeDammit(journal_text).unicode_markup\n",
    "    \n",
    "    return unicode_text #Can be subbed with journal_text if unicode is not preferred"
   ]
  },
  {
   "cell_type": "markdown",
   "metadata": {},
   "source": [
    "## Everything below is WIP"
   ]
  },
  {
   "cell_type": "code",
   "execution_count": 8,
   "metadata": {
    "scrolled": false
   },
   "outputs": [],
   "source": [
    "search_links = get_all_search_links(parent_link, search_link_modifier, 'search/')"
   ]
  },
  {
   "cell_type": "code",
   "execution_count": 15,
   "metadata": {},
   "outputs": [],
   "source": [
    "journal_links = get_all_journal_links(parent_link, search_links, 'journals/[a-z]')"
   ]
  },
  {
   "cell_type": "code",
   "execution_count": 17,
   "metadata": {},
   "outputs": [
    {
     "data": {
      "text/plain": [
       "15691"
      ]
     },
     "execution_count": 17,
     "metadata": {},
     "output_type": "execute_result"
    }
   ],
   "source": [
    "len(journal_links)"
   ]
  },
  {
   "cell_type": "code",
   "execution_count": 119,
   "metadata": {},
   "outputs": [],
   "source": [
    "test_link_modifier = journal_links[0]\n",
    "gen_obj = get_journal_text(parent_link, test_link_modifier, 'div', {'class': 'article_type'})"
   ]
  },
  {
   "cell_type": "code",
   "execution_count": 121,
   "metadata": {},
   "outputs": [
    {
     "name": "stdout",
     "output_type": "stream",
     "text": [
      "Oxidative Medicine and Cellular Longevity Volume 2012, Article ID 919832, 8 pages http://dx.doi.org/10.1155/2012/919832 Research Article Protein Oxidative Damage at the Crossroads of Cellular Senescence, Aging, and Age-Related Diseases Martin A. Baraibar ,  Liang Liu ,  Emad K. Ahmed , and  Bertrand Friguet Laboratoire de Biologie Cellulaire du Vieillissement, UR4-IFR83, Université Pierre et Marie Curie-Paris 6, 4 Place Jussieu, 75252 Paris Cedex 05,  France Received 30 July 2012; Accepted 14 September 2012 Academic Editor: Paula Ludovico  Copyright © 2012 Martin A. Baraibar et al. This is an open access article distributed under the  Creative Commons Attribution License , which permits unrestricted use, distribution, and reproduction in any medium, provided the original work is properly cited. Abstract Protein damage mediated by oxidation, protein adducts formation with advanced glycated end products and with products of lipid peroxidation, has been implicated during aging and age-related diseases, such as neurodegenerative diseases. Increased protein modification has also been described upon replicative senescence of human fibroblasts, a valid model for studying aging  in vitro . However, the mechanisms by which these modified proteins could impact on the development of the senescent phenotype and the pathogenesis of age-related diseases remain elusive. In this study, we performed  in silico  approaches to evidence molecular actors and cellular pathways affected by these damaged proteins. A database of proteins modified by carbonylation, glycation, and lipid peroxidation products during aging and age-related diseases was built and compared to those proteins identified during cellular replicative senescence  in vitro . Common cellular pathways evidenced by enzymes involved in intermediate metabolism were found to be targeted by these modifications, although different tissues have been examined. These results underscore the potential effect of protein modification in the impairment of cellular metabolism during aging and age-related diseases. 1. Introduction Hayflick and Moorhead established the concept that primary cells isolated from mammalian tissues undergo only a finite number of divisions when grown in culture, without spontaneous transformation [ 1 ,  2 ]. On reaching their replicative limit, such cells were termed “senescent” and were viewed as aged cells. Since then, replicative senescence has been considered as a cellular model of aging that may provide insight into organismal aging [ 3 – 5 ]. More recently, different studies have shown the occurrence of cellular senescence  in vivo  [ 6 ,  7 ]. These senescent cells are causally implicated in generating age-related phenotypes, and their removal can prevent or delay tissue dysfunction and extend healthspan [ 8 ]. Indeed, whether and how cellular senescence is related to organismal aging, age-related diseases, frailty, and dysfunction is one of the major open questions in the biology of aging field. A hallmark of aging both at the cellular and organismal level is the accumulation of damaged macromolecules due to increased oxidative stress and failure of protein repair and maintenance systems [ 9 ,  10 ]. Reactive oxygen species (ROS) are routinely produced as a byproduct of aerobic metabolism and oxidative phosphorylation. In addition, ROS production and accumulation are usually increased during disease pathogenesis (i.e., in particular age-related diseases) [ 11 ]. Low concentrations or transient exposure to ROS induce cell proliferation and regulate the activation of several signaling pathways [ 12 ]. However, unneutralized ROS cause oxidative damage to lipids, proteins, and nucleic acids, thus leading to aberrant molecular activities [ 13 ,  14 ]. Protein oxidation is particularly detrimental as the resulting damages and/or induced conformational changes to protein structures can render oxidized proteins inactive and lead to cellular functional abnormalities [ 15 ,  16 ]. Various types of protein oxidative modifications are induced directly by ROS or indirectly by reactions with secondary products of oxidative stress [ 17 ]. Cysteine and methionine residues are particularly prone to oxidative modifications, but they might not be directly linked to protein damage, since they also participate in cellular signaling events [ 18 ]. On the other hand, irreversible oxidation products of other residues are most frequently hydroxylated and carbonylated amino acid side chain derivatives. The exponential rate accumulation of carbonylated proteins during life span both at the cellular and organismal level and their particular increase in organs affected by age-related diseases, imply that this “Oxi-proteome” (i.e., the restricted set of proteins targeted by oxidation) may be a potential molecular substratum for many of the cellular dysfunctions described. Protein carbonylation includes aldehydes and ketones formed via different mechanisms: (i) direct oxidation of the polypeptide backbone leading to truncated peptides; (ii) side chains oxidation of lysine, arginine, proline, and threonine; (iii) reaction of histidine, cysteine, and lysine amino acid residues with aldehydes, for example, produced by lipid peroxidation; and (iv) glycation (nonenzymatic glycosylation) of lysine residues forming Amadori and Heyns rearrangements products (advanced glycated end products: AGE) [ 19 – 21 ]. Carbonylated proteins are generally less active, less thermostable and are exposing hydrophobic amino acids at their surface. Since oxidative modifications that give rise to carbonyl groups generally cause loss of catalytic or structural function in the affected proteins, it has been proposed that the increased level of oxidatively modified proteins observed during aging and age-related disease could have deleterious effects on cellular and organ function.  Increased levels of protein carbonyls have been observed in age-related diseases, such as neurodegenerative diseases (amyotrophic lateral sclerosis, Alzheimer’s, Parkinson’s, and Huntington’s diseases), cataractogenesis, systemic amyloidosis, muscular dystrophy, progeria, Werner’s syndrome, rheumatoid arthritis, and respiratory distress syndrome [ 22 – 24 ]. Elevated levels of proteins modified by lipid oxidation products (4-hydroxy-2-nonenal: HNE, malondialdehyde) are associated with neurodegenerative diseases, iron-induced renal carcinogenesis, cardiovascular disease, as well as elevated levels of protein glycation/glycoxidation end products (AGE) are associated with diabetes mellitus, neurodegenerative diseases, atherosclerosis, and Down’s syndrome. Significant advances in the past recent years have been made towards the identification of proteins targeted by these modifications, although their possible causative role in the pathogenesis of these diseases has not yet been determined.  Previous studies have addressed the identification of accumulated carbonylated proteins, as well as proteins modified by glycation and conjugation with the lipid peroxidation product HNE in senescent human WI-38 embryonic fibroblasts [ 25 ,  26 ]. Herein, by using  in silico  approaches, we have extended our analyses of modified proteins to those reported during  in vivo  aging and age-related diseases. Over than 180 proteins have been reported in the literature as increasingly modified, that are involved in key cellular pathways such as inflammatory response, energy metabolism, protein folding, and free radical scavenging. We found that several proteins (35%) identified in senescent fibroblasts were also found during organ aging and age-related diseases and when grouped into cellular function and canonical pathways they showed a close relationship. Taken together, these results indicate the particular susceptibility of certain proteins to detrimental posttranslational modifications, suggesting that protein modification is not a random process and is likely to be implicated in the molecular bases of aging and age-related diseases.  2. Material and Methods Functional and canonical pathways grouping of the identified modified proteins as well as network analyses were generated using the Ingenuity pathway analysis (IPA) software (version 2.0, Ingenuity Systems, Mountain view, CA, USA).  2.1. Functional Analysis of the Entire Data Set The functional analysis identified the biological functions and/or diseases that were most significant to the data set. Molecules from the data set that were associated with biological functions in the Ingenuity Knowledge Base were considered for the analysis. Right-tailed Fisher’s exact test was used to calculate a  \n",
      " \n",
      " -value determining the probability that each biological function and/or disease assigned to that data set is due to chance alone. 2.2. Canonical Pathways Analysis Canonical pathways analysis identified the pathways from the IPA library of canonical pathways that were most significant to the data set. Molecules from the data set that were associated with a canonical pathway in the Ingenuity Knowledge Base were considered for the analysis. The significance of the association between the data set and the canonical pathway was measured in two ways. (1) A ratio of the number of molecules from the data set that map to the pathway divided by the total number of molecules that map to the canonical pathway is displayed. (2) Fisher’s exact test was used to calculate a  P  value determining the probability that the association between the genes in the dataset and the canonical pathway is explained by chance alone. 2.3. Network Generation A data set containing gene (or chemical) identifiers and corresponding expression values was uploaded into the application. Each identifier was mapped to its corresponding object in the Ingenuity Knowledge Base. These molecules, called Network Eligible molecules, were overlaid onto a global molecular network developed from information contained in the Ingenuity Knowledge Base. Networks of Network Eligible Molecules were then algorithmically generated based on their connectivity. Molecules are represented as nodes, and the biological relationship between two nodes is represented as an edge (line). All edges are supported by at least one reference from the literature, from a textbook, or from canonical information stored in the Ingenuity Knowledge Base. Human, mouse, and rat orthologs of a gene are stored as separate objects in the Ingenuity Knowledge Base but are represented as a single node in the network.  3. Results and Discussion 3.1. Characterization of Carbonylated Proteins in WI-38 Fibroblasts upon Replicative Senescence The identified modified proteins in senescent fibroblasts reported previously [ 26 ] were classified by cellular localization and grouped by functional correlations, canonical pathways, and potential interactions (Figure  1 ). The subcellular location of the modified proteins indicated that the modified proteins are found in two major fractions: mitochondria (44%) and cytosol—including cytoskeletal proteins—(28%), underlying the high level of protein damage within mitochondria in senescent fibroblasts, especially when taking into account that proteins from this organelle represent only 5–10% of total cellular protein lysates (Figure  1(a) ). Figure 1:  Cellular pathways and network analysis of proteins reported to be increasingly modified in senescent WI-38 human fibroblasts. (a) Primary subcellular location of modified proteins previously reported in senescent fibroblasts. Rare primary localization terms were grouped as  Other  representing less than 6% of total identifications. (b) Proteins were grouped by canonical pathways through the use of Ingenuity Pathways Analysis (Ingenuity Systems,  http://www.ingenuity.com/ ). The bars represent the canonical pathways identified, named in the  \n",
      " \n",
      " -axis. The  \n",
      " \n",
      " -axis shows the −log of the  P  value calculated based on Fisher’s exact test. The dotted line represents the threshold above which there are statistically significantly more genes in a biological function than expected by chance. (c) Protein networks were obtained using Ingenuity Pathway. Proteins in red correspond to some of the proteins identified as increasingly modified in senescent fibroblasts. White open nodes indicate proteins not identified in this analysis, but associated with the regulation of some of the proteins identified. Information about the analysis of biological functions and pathways as well as network interactions is available at the Ingenuity Pathway Analysis website. A line denotes binding of proteins, whereas a line with an arrow denotes “acts on.” A dotted line denotes an indirect interaction. Data mining on molecular relationships was performed with the aim of detecting the cellular pathways potentially perturbed upon replicative senescence. Major categories include key cellular processes such as mitochondrial dysfunction; citrate cycle; butanoate; carbohydrate; lipids and pyruvate metabolism; oxidative phosphorylation; arginine and proline metabolism (Figure  1(b) ). At the functional level, a decrease in the mitochondrial capability of ATP regeneration has been described during aging [ 27 ]. Notably, mitochondrial proteins were particularly targeted by oxidation during replicative senescence in WI-38 fibroblasts, such as the iron-sulfur subunit of complex I and subunit alpha of ATP synthase. In addition, HNE has been previously found to inhibit the activity of many respiratory chain complexes  in vitro  [ 28 ], and mitochondrial respiration is also affected by incubation of mitochondria with the AGE inducer methylglyoxal [ 29 ]. Enzymes like malate dehydrogenase, 2-oxoglutarate dehydrogenase E1 component, glycerol-3-phosphate dehydrogenase, glycerol kinase, and glutaminase were found increasingly modified upon replicative senescence. These findings suggest that modification of proteins responsible for energy metabolism may participate in the impairment of mitochondrial function observed in senescent cells. To obtain further insights into the cellular pathways potentially affected during the development of the senescent phenotype, a protein interaction analysis was performed (Figure  1(c) ) using the Ingenuity Pathways Analysis software. This analysis showed interrelationships that involve the modified proteins within a defined network. The obtained network shows that peroxisome proliferator-activated receptor gamma (PPAR \n",
      " \n",
      " ), tumor necrosis factor (TNF), and insulin growth factor (IGF1) are central nodes to this network. Interestingly, all three proteins have been previously implicated in cellular senescence. For instance, PPAR \n",
      " \n",
      "  is a member of the nuclear receptor superfamily of ligand-activated transcription factors and regulates gene expression of key proteins involved in glucose/lipid metabolism, vascular inflammation, and proliferation. Previous studies have shown that PPAR \n",
      " \n",
      "  activation promotes cellular senescence in WI-38 fibroblasts through the induction of p16 expression [ 30 ]. Furthermore, protein modifications may also result in the alteration of the interactome of targeted proteins, hence, affecting the normal function of other nonmodified proteins. For example, four proteins that are increasingly modified during replicative senescence, are interacting with the sterol regulatory element-binding transcription factor 1 (SREBF1), also involved in cellular senescence [ 31 ], making it a likely target for impaired connections with these proteins. 3.2.  In Silico  Analysis of Carbonylated Proteins Identified during  In Vivo  Aging and Age-Related Diseases   We next addressed whether the proteins identified as increasingly modified during  in vitro  aging of WI-38 fibroblasts were also identified in either human or mammalian animal models during aging and age-related diseases (neurodegenerative diseases, cancer, and diabetes), where increased protein carbonylation has been consistently evidenced. For that purpose, a specific search was performed for proteins identified as increasingly carbonylated or modified by AGE or HNE in articles published in peer-reviewed journals. Modified proteins identified in humans, but also in mammalian models of diseases (rodents), were selected. A total of 183 proteins were listed (supplementary Table 1, see Supplementary Materials available online at  http://dx.doi.org/10.1155/2012/919832 ). Modified proteins were identified in brain, cerebellum, spinal cord, skeletal muscle, liver, eyes, and cerebrospinal and bronchoalveolar fluids. Of note is that most of the proteins identified as increasingly modified belong from the brain due to the high number of studies addressing the importance of protein carbonylation in the pathogenesis of several neurodegenerative diseases, such as amyotrophic lateral sclerosis (ALS), Alzheimer’s, Parkinson’s and Huntington’s diseases. However, several proteins have been identified consistently modified in different organs systems such as central nervous system, liver, and eyes, indicating that the spectrum of proteins targeted by these modifications is conserved. Conditions of acute oxidative stress have not been included in this study, but we have recently shown in human myoblasts that even under high concentrations of hydrogen peroxide, only a restricted set of proteins are targeted by oxidation [ 32 ]. Interestingly, these carbonylated proteins are not necessarily the most abundant and differ largely with those proteins that exhibit changes at the expression level in the total cellular proteome [ 32 ]. Annotation of subcellular location of referenced proteins was performed based on information deposited in the human protein reference database (HPRD). Cytoplasmic proteins were predominant, followed by proteins from mitochondria, nucleus, endoplasmic reticulum and plasma membrane, respectively (Figure  2(a) ). However, it is important to note that most of the studies were performed in total tissue soluble extracts, where mitochondrial and membrane proteins are clearly underrepresented when compared to total cellular proteins. Figure 2:  Cellular localization and functional grouping of modified proteins identified during aging and age-related diseases. (a) Primary subcellular location of the identified modified proteins. (b) Functional grouping of modified proteins through the use of Ingenuity Pathways Analysis. The bars represent the biological functions identified, named in the  \n",
      " \n",
      " -axis. The dotted line represents the threshold above which there are statistically significantly more genes in a biological function than expected by chance. Functional annotation was also performed using Ingenuity Knowledge Base. Proteins were mainly distributed by biological processes such as inflammatory response, cellular metabolism, free radical scavenging, and protein synthesis and folding (Table  1 ). In addition, some proteins belonged to different functional families, hence their participation in other crucial cellular processes cannot be ignored.  Table 1:  Functional categories of proteins identified as increasingly modified in aging and age-related diseases. Fisher exact test was used and the  \n",
      " \n",
      "  value refers to the probability that each biological function assigned is due to chance alone. Concerning proteins involved in the inflammatory response, it is important to note that physiological aging is associated with a chronic subclinical systemic inflammatory response, also referred as to “inflamm-aging”, characterized by elevated levels of serum proinflammatory cytokines such as interleukin 6 (IL-6), TNF α  and acute phase proteins such as C-reactive protein (CRP) [ 33 ]. Inflammation is now accepted as a key pathogenic factor in the development of several age-related pathologies including cardiovascular disease, type 2 diabetes and neurodegenerative diseases [ 33 ]. Importantly, the inflammatory environment is highly oxidative, and increased protein oxidation has been described, generating a positive feedback process. Proteins involved in energy metabolism were also evidenced in the modified proteins referenced. The most significant canonical pathways across the entire dataset included:  glycolysis/gluconeogenesis ,  citrate cycle ,  pyruvate metabolism, amino acids degradation, mitochondrial dysfunction, cell death, butanoate metabolism, NRF-2 oxidative stress response, and cellular function and maintenance  (Figure  2(b) ).  3.3. Comparison of Carbonylated Proteins in Senescent Fibroblasts with those Identified during  In Vivo  Aging and Age-Related Diseases Twelve proteins (heat shock cognate 71 KDa protein, vimentin, actin, tubulin, glyceraldehyde-3-phosphate dehydrogenase, ATP synthase, proteasome subunit 11, elongation factor Tu, cytochrome b-c1 complex, annexin A5, proteasome subunit alpha type-2, and malate dehydrogenase), which correspond to about one third of the proteins identified during replicative senescence of WI38 fibroblasts  in vitro,  have been also identified as increasingly modified in other models of aging and age-related diseases.  Comparison of these two data sets indicates a similarity in the proteins targeted by these modifications to some extent. It is important to note that the majority of the studies has been achieved on brain, where the protein expression profile could differ significantly from the one of fibroblasts cultured  in vitro . Further studies should address this issue by using senescent cells from different tissues. Of particular interest would be human senescent stem cells since they develop both chronological and replicative aging. IPA comparison analysis and functional grouping of proteins identified in senescent fibroblasts and those reported in the literature were performed. The analysis showed several common molecular and cellular functions involved in both datasets (Figure  3 ). Important cellular functions, like energy production, carbohydrate metabolism, protein synthesis, folding, and degradation may be implicated since they are directly targeted by modification of proteins implicated in those cellular pathways. In both cases, underlying common mechanisms are involved, although these  in silico  analyses are rather predictive and should be confirmed by experimental data. Figure 3:  Common cellular functions across the two data sets after comparison analysis. The bars represent the biological functions identified, named in the  \n",
      " \n",
      " -axis. The  \n",
      " \n",
      " -axis shows the −log of the  \n",
      " \n",
      "  value calculated based on Fisher’s exact test. The dotted line represents the threshold above which there are statistically significantly more genes in a biological function than expected by chance. The differences observed in the  \n",
      " \n",
      " -values for each function in between the two groups are due to differences in the number of proteins assigned and reference data set. Common processes are suggested to be causally involved or at least contribute to aging and age-related diseases, including increased oxidative stress, accumulation of protein damage, and general metabolic dysfunction. However, these processes have been mostly seen as independent events. An important outcome of the present study is that several enzymes that catalyze intermediate metabolism, such as glycolysis, gluconeogenesis, the citrate cycle, and fatty acid metabolism have been found to be modified. These results indicate a potential effect of protein modification on the impairment of cellular energy metabolism. Future studies should address this important issue by combining metabolomics and targeted proteomic analysis during cellular and organismal aging.  Acknowledgments The authors are very thankful to the EU-funded projects MYOAGE (no. 223576) and PROTEOMAGE (no. 518230), under FP7 and FP6, as well as to the COST Action CM1001. In addition, they are very grateful to Dr. Adelina Rogowska-Wrzesinska for her advice on cellular pathway analyses. \n"
     ]
    }
   ],
   "source": [
    "print(gen_obj)"
   ]
  },
  {
   "cell_type": "code",
   "execution_count": 78,
   "metadata": {},
   "outputs": [
    {
     "data": {
      "text/plain": [
       "'/journals/omcl/2012/919832/'"
      ]
     },
     "execution_count": 78,
     "metadata": {},
     "output_type": "execute_result"
    }
   ],
   "source": [
    "journal_links[0]"
   ]
  },
  {
   "cell_type": "code",
   "execution_count": null,
   "metadata": {},
   "outputs": [],
   "source": []
  }
 ],
 "metadata": {
  "hide_input": false,
  "kernelspec": {
   "display_name": "Python 3",
   "language": "python",
   "name": "python3"
  },
  "language_info": {
   "codemirror_mode": {
    "name": "ipython",
    "version": 3
   },
   "file_extension": ".py",
   "mimetype": "text/x-python",
   "name": "python",
   "nbconvert_exporter": "python",
   "pygments_lexer": "ipython3",
   "version": "3.7.3"
  }
 },
 "nbformat": 4,
 "nbformat_minor": 2
}
