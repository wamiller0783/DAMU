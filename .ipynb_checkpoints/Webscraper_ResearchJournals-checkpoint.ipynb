{
 "cells": [
  {
   "cell_type": "code",
   "execution_count": 1,
   "metadata": {},
   "outputs": [],
   "source": [
    "from bs4 import BeautifulSoup\n",
    "import re\n",
    "import requests\n",
    "import pandas as pd"
   ]
  },
  {
   "cell_type": "markdown",
   "metadata": {},
   "source": [
    "Journal searches to scrape:  \n",
    "https://www.hindawi.com/search/all/biological+aging/  \n",
    "https://www.sciencedirect.com/journal/ageing-research-reviews/issues (limited availability)  \n",
    "https://academic.oup.com/ageing/search-results?q=aging&allJournals=1&f_ContentType=Journal+Article&f_ArticleTypeDisplayName=Research+Article&fl_SiteID=5255&access_openaccess=true&access_unlocked=true&qb=%7b%22q%22%3a%22aging%22%7d&access_free=true (search could be expanded, but no search includes many results regarding injuries).  \n"
   ]
  },
  {
   "cell_type": "code",
   "execution_count": 2,
   "metadata": {},
   "outputs": [],
   "source": [
    "## define variables for the parent website plus the URL for the first page of any search results\n",
    "parent_link = 'https://www.hindawi.com'\n",
    "search_link_modifier = '/search/all/cellular+aging/'"
   ]
  },
  {
   "cell_type": "code",
   "execution_count": 3,
   "metadata": {},
   "outputs": [],
   "source": [
    "def fetch_page(page_link):\n",
    "    \"\"\"\n",
    "    Args: \n",
    "        page_line (str): any valid URL\n",
    "        \n",
    "    Returns:\n",
    "        page_content (obj): BeautifulSoup parsable webcontent associated with the input URL \n",
    "    \n",
    "    To-do:\n",
    "        Add error handling based on page_response\n",
    "    \"\"\"\n",
    "    page_response = requests.get(page_link, timeout=5)\n",
    "    page_content = BeautifulSoup(page_response.content, \"html.parser\")\n",
    "    return page_content"
   ]
  },
  {
   "cell_type": "code",
   "execution_count": 4,
   "metadata": {},
   "outputs": [],
   "source": [
    "def links_from_parent(parent_content, search_substring):\n",
    "    \"\"\"\n",
    "    Args: \n",
    "        parent_content (obj): BeautifulSoup parsed html\n",
    "            \n",
    "        search_substring (str): string to search for within link URL\n",
    "   \n",
    "    Returns:\n",
    "        list_links (list): List of links meeting search criteria\n",
    "    \"\"\" \n",
    "    list_links = []\n",
    "    for link in parent_content.findAll('a', href=re.compile(search_substring)):\n",
    "        list_links.append(link.get('href'))\n",
    "    return list_links\n",
    "            \n",
    "# def link_next_parent(parent_content, journal_name):\n",
    "#     if journal_name == 'hindawi':\n",
    "#         for link in parent_content.findAll('a', href=re.compile('search/')):\n",
    "#             print(link.get('href'))"
   ]
  },
  {
   "cell_type": "code",
   "execution_count": 5,
   "metadata": {},
   "outputs": [],
   "source": [
    "def get_all_search_links(parent_link, search_link_modifier, next_search_modifier, max_count = 1000, **kws):\n",
    "    \"\"\"\n",
    "    Args:\n",
    "        parent_link (str): \n",
    "            URL of parent site ('https://www.hindawi.com')\n",
    "        \n",
    "        search_link_modifier (str): \n",
    "            string to add to parent URL that links to the first search term\n",
    "            ('/search/all/biological+aging/' within 'https://www.hindawi.com/search/all/biological+aging/')\n",
    "    \n",
    "        next_search_modifier (str): \n",
    "            string (plus optional regex) within a URL that signifies a link to the next\n",
    "            page of search results ('search/' within 'https://www.hindawi.com/search/all/biological+aging/2/')\n",
    "            \n",
    "        max_count (int):\n",
    "            maximum number of links to get from search to prevent the indefinite retrieval.\n",
    "    \n",
    "    Returns:\n",
    "        list_links (list): \n",
    "            All links to all pages of search results within the parent site which correspond to the search term\n",
    "    \"\"\"\n",
    "    list_links = [search_link_modifier]\n",
    "    e = 0\n",
    "    i = 0\n",
    "    while (e == 0) and (i < max_count):\n",
    "        search_content = fetch_page(parent_link + search_link_modifier)\n",
    "        \n",
    "        next_search_link = links_from_parent(search_content, next_search_modifier)\n",
    "        if next_search_link[-1] not in list_links:\n",
    "            list_links.append(next_search_link[-1])\n",
    "            search_link_modifier = next_search_link[-1]\n",
    "        else:\n",
    "            e = 1\n",
    "        i += 1\n",
    "    return list_links"
   ]
  },
  {
   "cell_type": "code",
   "execution_count": 12,
   "metadata": {},
   "outputs": [],
   "source": [
    "def get_all_journal_links(parent_link, search_link_list, journal_link_identifier):\n",
    "    \"\"\"\n",
    "    Args:\n",
    "        parent_link (str): \n",
    "            URL of parent site ('https://www.hindawi.com')\n",
    "        \n",
    "        search_link_list (list): \n",
    "            list of strings string to add to parent URL to get search pages\n",
    "            (['/search/all/biological+aging/', '/search/all/biological+aging/2/'] \n",
    "            within 'https://www.hindawi.com/search/all/biological+aging/' and \n",
    "            'https://www.hindawi.com/search/all/biological+aging/2/, respectively.\n",
    "\n",
    "    \n",
    "        journal_link_identifier (str): \n",
    "            string (plus optional regex) within a URL that signifies a link to a journal\n",
    "            ('journals/[a-z]' within 'https://www.hindawi.com/journals/[string starting with any letter]')\n",
    "    \n",
    "    Returns:\n",
    "        list_links (list): \n",
    "            All links to all journals within the parent site which correspond to the search term\n",
    "    \"\"\"\n",
    "    list_links = []\n",
    "    for search_link_modifier in search_link_list:\n",
    "        search_content = fetch_page(parent_link + search_link_modifier)\n",
    "        page_links = links_from_parent(search_content, journal_link_identifier)\n",
    "        list_links = list_links + page_links\n",
    "    return list_links\n"
   ]
  },
  {
   "cell_type": "markdown",
   "metadata": {},
   "source": [
    "## Everything below is WIP"
   ]
  },
  {
   "cell_type": "code",
   "execution_count": null,
   "metadata": {},
   "outputs": [],
   "source": [
    "def get_journal_text(journal_link_modifier, start_identifier, end_identifier):\n",
    "    \"\"\"\n",
    "    Args:\n",
    "        journal_link_modifier (str):\n",
    "            string within a URL that signifies a link to a specific journal article\n",
    "            ('/journals/omcl/2012/919832/' within 'https://www.hindawi.com/journals/omcl/2012/919832/')\n",
    "    \n",
    "        start_identifier (str):\n",
    "            String with optional regex that identifies an html tag at at which to begin scraping text.\n",
    "        \n",
    "        end_identifier (str):\n",
    "            String with optional regex that identifies an html tag at at which to stop scraping text.\n",
    "            \n",
    "    Returns:\n",
    "        journal_text (str):\n",
    "    \"\"\"\n",
    "    page_content = fetch_page(parent_link + search_link_modifier)"
   ]
  },
  {
   "cell_type": "code",
   "execution_count": 8,
   "metadata": {
    "scrolled": false
   },
   "outputs": [],
   "source": [
    "search_links = get_all_search_links(parent_link, search_link_modifier, 'search/')"
   ]
  },
  {
   "cell_type": "code",
   "execution_count": 15,
   "metadata": {},
   "outputs": [],
   "source": [
    "journal_links = get_all_journal_links(parent_link, search_links, 'journals/[a-z]')"
   ]
  },
  {
   "cell_type": "code",
   "execution_count": 17,
   "metadata": {},
   "outputs": [
    {
     "data": {
      "text/plain": [
       "15691"
      ]
     },
     "execution_count": 17,
     "metadata": {},
     "output_type": "execute_result"
    }
   ],
   "source": [
    "len(journal_links)"
   ]
  },
  {
   "cell_type": "code",
   "execution_count": 19,
   "metadata": {},
   "outputs": [
    {
     "data": {
      "text/plain": [
       "['/journals/omcl/2012/919832/',\n",
       " '/journals/omcl/2017/2398696/',\n",
       " '/journals/omcl/2017/7941563/',\n",
       " '/journals/omcl/2017/2784153/',\n",
       " '/journals/omcl/2017/7928981/',\n",
       " '/journals/omcl/2012/616128/',\n",
       " '/journals/omcl/2017/7280690/',\n",
       " '/journals/omcl/2015/732914/',\n",
       " '/journals/jar/2011/814096/']"
      ]
     },
     "execution_count": 19,
     "metadata": {},
     "output_type": "execute_result"
    }
   ],
   "source": [
    "journal_links[0:9]"
   ]
  },
  {
   "cell_type": "code",
   "execution_count": null,
   "metadata": {},
   "outputs": [],
   "source": []
  }
 ],
 "metadata": {
  "hide_input": false,
  "kernelspec": {
   "display_name": "Python 3",
   "language": "python",
   "name": "python3"
  },
  "language_info": {
   "codemirror_mode": {
    "name": "ipython",
    "version": 3
   },
   "file_extension": ".py",
   "mimetype": "text/x-python",
   "name": "python",
   "nbconvert_exporter": "python",
   "pygments_lexer": "ipython3",
   "version": "3.7.3"
  }
 },
 "nbformat": 4,
 "nbformat_minor": 2
}
