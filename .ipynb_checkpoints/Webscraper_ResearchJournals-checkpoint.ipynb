{
 "cells": [
  {
   "cell_type": "code",
   "execution_count": 1,
   "metadata": {},
   "outputs": [],
   "source": [
    "from bs4 import BeautifulSoup\n",
    "import re\n",
    "import requests\n",
    "import pandas as pd"
   ]
  },
  {
   "cell_type": "markdown",
   "metadata": {},
   "source": [
    "Journal searches to scrape:\n",
    "https://www.hindawi.com/search/all/biological+aging/\n",
    "https://www.sciencedirect.com/journal/ageing-research-reviews/issues (limited availability)\n",
    "https://academic.oup.com/ageing/search-results?q=aging&allJournals=1&f_ContentType=Journal+Article&f_ArticleTypeDisplayName=Research+Article&fl_SiteID=5255&access_openaccess=true&access_unlocked=true&qb=%7b%22q%22%3a%22aging%22%7d&access_free=true (search could be expanded, but no search includes many results regarding injuries)."
   ]
  },
  {
   "cell_type": "code",
   "execution_count": 2,
   "metadata": {},
   "outputs": [],
   "source": [
    "## define variables for the parent website plus the URL for the first page of any search results\n",
    "parent_link = 'https://www.hindawi.com'\n",
    "search_link_modifier = '/search/all/biological+aging/'"
   ]
  },
  {
   "cell_type": "code",
   "execution_count": 3,
   "metadata": {},
   "outputs": [],
   "source": [
    "def fetch_page(page_link):\n",
    "    ## Input: page_line = any valid URL\n",
    "    ## Output: page_content = BeautifulSoup parsable webcontent associated with the input URL \n",
    "    page_response = requests.get(page_link, timeout=5)\n",
    "    page_content = BeautifulSoup(page_response.content, \"html.parser\")\n",
    "    return page_content"
   ]
  },
  {
   "cell_type": "code",
   "execution_count": 13,
   "metadata": {},
   "outputs": [],
   "source": [
    "def links_from_parent(parent_content, journal_name , search_substring):\n",
    "    ## Inputs \n",
    "    ##  parent_content = BeautifulSoup parsed html\n",
    "    ##  journal_name = current possible values include 'hindawi'\n",
    "    ##  search_substring = string to search for within link URL\n",
    "    ##\n",
    "    ## Output\n",
    "    ##   list_Links = List of links meeting search criteria\n",
    "    list_Links = []\n",
    "    if journal_name == 'hindawi':\n",
    "        for link in parent_content.findAll('a', href=re.compile(search_substring)):\n",
    "            list_Links.append(link.get('href'))\n",
    "    return list_Links\n",
    "            \n",
    "# def link_next_parent(parent_content, journal_name):\n",
    "#     if journal_name == 'hindawi':\n",
    "#         for link in parent_content.findAll('a', href=re.compile('search/')):\n",
    "#             print(link.get('href'))"
   ]
  },
  {
   "cell_type": "code",
   "execution_count": null,
   "metadata": {},
   "outputs": [],
   "source": [
    "def get_all_journal_links(parent_link, search_link_modifier):\n",
    "    return"
   ]
  },
  {
   "cell_type": "code",
   "execution_count": 9,
   "metadata": {},
   "outputs": [],
   "source": [
    "search_content = fetch_page(parent_link + search_link_modifier)"
   ]
  },
  {
   "cell_type": "code",
   "execution_count": 12,
   "metadata": {},
   "outputs": [],
   "source": [
    "list_JournalLinks = links_from_parent(search_content, 'hindawi', 'journals/[a-z]')"
   ]
  },
  {
   "cell_type": "code",
   "execution_count": 11,
   "metadata": {},
   "outputs": [
    {
     "name": "stdout",
     "output_type": "stream",
     "text": [
      "/search/all/biological+aging/2/\n"
     ]
    }
   ],
   "source": [
    "next_SearchLink = links_from_parent(search_content, 'hindawi', 'search/')"
   ]
  },
  {
   "cell_type": "code",
   "execution_count": null,
   "metadata": {},
   "outputs": [],
   "source": [
    "parent_content"
   ]
  },
  {
   "cell_type": "code",
   "execution_count": null,
   "metadata": {},
   "outputs": [],
   "source": []
  }
 ],
 "metadata": {
  "hide_input": false,
  "kernelspec": {
   "display_name": "Python 3",
   "language": "python",
   "name": "python3"
  },
  "language_info": {
   "codemirror_mode": {
    "name": "ipython",
    "version": 3
   },
   "file_extension": ".py",
   "mimetype": "text/x-python",
   "name": "python",
   "nbconvert_exporter": "python",
   "pygments_lexer": "ipython3",
   "version": "3.6.7"
  }
 },
 "nbformat": 4,
 "nbformat_minor": 2
}
